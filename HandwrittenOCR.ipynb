{
 "cells": [
  {
   "cell_type": "code",
   "execution_count": 1,
   "id": "a00d61c27c7b2dd",
   "metadata": {
    "jupyter": {
     "is_executing": true
    }
   },
   "outputs": [
    {
     "data": {
      "text/plain": [
       "True"
      ]
     },
     "execution_count": 1,
     "metadata": {},
     "output_type": "execute_result"
    }
   ],
   "source": [
    "# This project gets and post documents to DocuPanda\n",
    "# https://docupanda.readme.io/reference/getting-started-with-your-api-1\n",
    "# June 26, 2024\n",
    "\n",
    "import os\n",
    "import requests\n",
    "import base64\n",
    "from dotenv import load_dotenv\n",
    "load_dotenv()"
   ]
  },
  {
   "cell_type": "code",
   "execution_count": 2,
   "id": "f017adce64b953ea",
   "metadata": {},
   "outputs": [],
   "source": [
    "# global declaration\n",
    "API_KEY = os.getenv('API_KEY') ## add the api key when generated \n",
    "URL = os.getenv('URL')  ## add url"
   ]
  },
  {
   "cell_type": "code",
   "execution_count": 3,
   "id": "1d251880",
   "metadata": {},
   "outputs": [],
   "source": [
    "# Gets list of document and returns the docuemntID to be be used in the get_doc() function\n",
    "# Gets the latest files based on my testing\n",
    "\n",
    "def get_doc_Id():\n",
    "    #TODO url filters by dataset. In this usecase the dataset is unassigned.\n",
    "    url=URL+\"s?dataset=unassigned\" #TODO this may need to be added to .env variable ?\n",
    "    headers = {\n",
    "        \"accept\": \"application/json\",\n",
    "        \"X-API-Key\": API_KEY\n",
    "    }\n",
    "    response = requests.get(url, headers=headers)\n",
    "    if response.status_code == 200:\n",
    "        data = response.json()\n",
    "        for documents in data:\n",
    "            docs = documents[\"documentId\"]\n",
    "        return  docs\n",
    "    else:\n",
    "        return f\"Error: {response.status_code}\""
   ]
  },
  {
   "cell_type": "code",
   "execution_count": 4,
   "id": "9240fe072a653c2d",
   "metadata": {
    "jupyter": {
     "is_executing": true
    }
   },
   "outputs": [
    {
     "data": {
      "text/plain": [
       "{'documentId': '35d0caae',\n",
       " 'status': 'completed',\n",
       " 'filename': 'Scan',\n",
       " 'fileType': 'image',\n",
       " 'fileExtension': 'jpeg',\n",
       " 'result': {'pages': [{'sections': [{'type': 'text',\n",
       "      'text': 'This is my hand writing. Trying to extract the text from this hand written document .',\n",
       "      'bbox': [0.07019607843137254,\n",
       "       0.11212121212121212,\n",
       "       0.9964705882352941,\n",
       "       0.21393939393939393],\n",
       "      'header': 'paragraph',\n",
       "      'tableList': None},\n",
       "     {'type': 'text',\n",
       "      'text': 'I hope it works ! -',\n",
       "      'bbox': [0.12862745098039216,\n",
       "       0.29515151515151516,\n",
       "       0.7054901960784313,\n",
       "       0.343030303030303],\n",
       "      'header': 'paragraph',\n",
       "      'tableList': None}],\n",
       "    'text': 'This is my hand writing. Trying to extract the text from this hand written document .\\n\\nI hope it works ! -',\n",
       "    'textAscii': '     is  my    hand\\n                                         to  extract\\nthe   text   from   this  hand    written  document .\\n - I    hope      it      works !',\n",
       "    'pageNum': 0,\n",
       "    'orientation': 'normal'}],\n",
       "  'numPages': 1,\n",
       "  'isNative': None,\n",
       "  'handwriting': True,\n",
       "  'language': 'en',\n",
       "  'text': 'This is my hand writing. Trying to extract the text from this hand written document .\\n\\nI hope it works ! -',\n",
       "  'textAscii': '     is  my    hand\\n                                         to  extract\\nthe   text   from   this  hand    written  document .\\n - I    hope      it      works !'}}"
      ]
     },
     "execution_count": 4,
     "metadata": {},
     "output_type": "execute_result"
    }
   ],
   "source": [
    "# Gets document by ID. This function did not account for multiple documents.\n",
    "# TODO modify function to by doing a for loop and adding individual id to the url\n",
    "\n",
    "def get_doc():\n",
    "    doc_id = get_doc_Id()\n",
    "    url = f\"{URL}/{doc_id}\" # TODO for ids in url: url = f\"{URL}/ids ??\n",
    "    headers = {\n",
    "        \"accept\": \"application/json\",\n",
    "        \"X-API-Key\": API_KEY\n",
    "    }\n",
    "    response = requests.get(url, headers=headers)\n",
    "    if response.status_code ==200:\n",
    "        return response.json()\n",
    "    else:\n",
    "        return f\"Error: {response.status_code}\"\n",
    "\n",
    "get_doc() \n",
    " "
   ]
  },
  {
   "cell_type": "code",
   "execution_count": 5,
   "id": "0aeb3a0a",
   "metadata": {},
   "outputs": [
    {
     "name": "stdout",
     "output_type": "stream",
     "text": [
      "Successfully added: 35d0caae\n"
     ]
    }
   ],
   "source": [
    "# Upload document to DocuPanda\n",
    "def push_doc():\n",
    "    url = URL\n",
    "    payload ={\n",
    "        \"document\":{\n",
    "            \"file\":{\n",
    "                #content converts file to base64\n",
    "                \"contents\":base64.b64encode(open(\"Scan.jpeg\", \"rb\").read()).decode(), #TODO get location dynamically ?\n",
    "                \"filename\":\"Scan\"\n",
    "            }\n",
    "        }\n",
    "    }\n",
    "    headers ={\n",
    "        'accept':'application/json',\n",
    "        'Content-Type': 'application/json',\n",
    "        'X-API-Key': API_KEY\n",
    "    }\n",
    "    response = requests.post(url,json=payload, headers=headers)\n",
    "    if response.status_code == 200:\n",
    "        document_id = response.json()['documentId']\n",
    "        print(f\"Successfully added: {document_id}\")\n",
    "    else:\n",
    "        print(f\"Unable to add document: {response.status_code}\")\n",
    "\n",
    "push_doc()"
   ]
  },
  {
   "cell_type": "code",
   "execution_count": null,
   "id": "973126cf-6b6e-4ba6-8f2e-ca43904a072d",
   "metadata": {},
   "outputs": [],
   "source": []
  }
 ],
 "metadata": {
  "kernelspec": {
   "display_name": "Python 3 (ipykernel)",
   "language": "python",
   "name": "python3"
  },
  "language_info": {
   "codemirror_mode": {
    "name": "ipython",
    "version": 3
   },
   "file_extension": ".py",
   "mimetype": "text/x-python",
   "name": "python",
   "nbconvert_exporter": "python",
   "pygments_lexer": "ipython3",
   "version": "3.12.3"
  }
 },
 "nbformat": 4,
 "nbformat_minor": 5
}
